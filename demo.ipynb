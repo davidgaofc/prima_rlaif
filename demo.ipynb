{
 "cells": [
  {
   "cell_type": "code",
   "execution_count": 8,
   "metadata": {
    "collapsed": true
   },
   "outputs": [],
   "source": [
    "from prima.privacy import PriMa"
   ]
  },
  {
   "cell_type": "code",
   "execution_count": 44,
   "outputs": [],
   "source": [
    "mask_probability = 0.37\n",
    "iterations = 2\n",
    "prima_instance = PriMa(prop=mask_probability, passes=iterations)"
   ],
   "metadata": {
    "collapsed": false
   }
  },
  {
   "cell_type": "code",
   "execution_count": 45,
   "outputs": [],
   "source": [
    "example = \"human: How many people are affected by hypokalemic periodic paralysis ?\\nassistant:\\n1. An increased incidence by excess protein fatty acids is causing various chronic conditions such as age-related injury and gastrointestinal disorder. In the most recent analysis, dozens of people with hypokalemic periodic paralysis have been identified.\\n2. It is estimated that in these cases, an estimated 50,000 people have been reported, mostly from elderly people or from younger families. In many cases, hypokalemic periodic paralysis is an autoimmune disorder\""
   ],
   "metadata": {
    "collapsed": false
   }
  },
  {
   "cell_type": "code",
   "execution_count": 46,
   "outputs": [],
   "source": [
    "obfuscated_datapoint = prima_instance.augment(example)"
   ],
   "metadata": {
    "collapsed": false
   }
  },
  {
   "cell_type": "code",
   "execution_count": 47,
   "outputs": [
    {
     "data": {
      "text/plain": "'human: how many people are affected by hypokalemic acid disease? the increased incidence by excess of. disease is causing various chronic diseases such as age - related injury and gastrointestinal disorder. in the most recent analysis, hundreds of people in hypokalemic periodic paralysis is be identified. it is estimated that of.. an estimated, 000 people have been found mostly from elderly people or from younger families. in many cases, hypokalemic periodic paralysis is an autoimmune disorder\\nassistant:\\n 1.  and increased incidence by the protein fatty acids, causing various cardiovascular disease, the age - related injury and bipolar disorder. in the most of of dozens of people. the symptoms may have been identified. it is found in in in cases, an estimated, 000 people have been reported, mostly from the people in in of families. in other cases, hypokalemic periodic paralysis is an estimated. \\n2.  it is estimated that of these are an estimated that that has been reported by the elderly people or in the.. many cases, the, disease is an autoimmune.'"
     },
     "execution_count": 47,
     "metadata": {},
     "output_type": "execute_result"
    }
   ],
   "source": [
    "obfuscated_datapoint"
   ],
   "metadata": {
    "collapsed": false
   }
  },
  {
   "cell_type": "code",
   "execution_count": null,
   "outputs": [],
   "source": [],
   "metadata": {
    "collapsed": false
   }
  }
 ],
 "metadata": {
  "kernelspec": {
   "display_name": "Python 3",
   "language": "python",
   "name": "python3"
  },
  "language_info": {
   "codemirror_mode": {
    "name": "ipython",
    "version": 2
   },
   "file_extension": ".py",
   "mimetype": "text/x-python",
   "name": "python",
   "nbconvert_exporter": "python",
   "pygments_lexer": "ipython2",
   "version": "2.7.6"
  }
 },
 "nbformat": 4,
 "nbformat_minor": 0
}
