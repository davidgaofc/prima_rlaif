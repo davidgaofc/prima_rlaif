{
 "cells": [
  {
   "cell_type": "code",
   "execution_count": 26,
   "metadata": {
    "collapsed": true
   },
   "outputs": [],
   "source": [
    "from datasets import load_dataset, DatasetDict"
   ]
  },
  {
   "cell_type": "code",
   "execution_count": 27,
   "outputs": [],
   "source": [
    "dataset = load_dataset(\"keivalya/MedQuad-MedicalQnADataset\")"
   ],
   "metadata": {
    "collapsed": false
   }
  },
  {
   "cell_type": "code",
   "execution_count": 28,
   "outputs": [],
   "source": [
    "total_samples = len(dataset['train'])\n",
    "splits = {\n",
    "    'train_1': int(total_samples * 0.35),\n",
    "    'train_2': int(total_samples * 0.35),\n",
    "    'test_1': int(total_samples * 0.10),\n",
    "    'test_2': int(total_samples * 0.10),\n",
    "    'split_1': int(total_samples * 0.05),\n",
    "    'split_2': int(total_samples * 0.05)\n",
    "}\n",
    "\n",
    "# Create the splits\n",
    "shuffled = dataset['train'].shuffle(seed=42)\n",
    "train_1 = shuffled.select(range(splits['train_1']))\n",
    "remaining = shuffled.select(range(splits['train_1'], total_samples))\n",
    "\n",
    "train_2 = remaining.select(range(splits['train_2']))\n",
    "remaining = remaining.select(range(splits['train_2'], len(remaining)))\n",
    "\n",
    "test_1 = remaining.select(range(splits['test_1']))\n",
    "remaining = remaining.select(range(splits['test_1'], len(remaining)))\n",
    "\n",
    "test_2 = remaining.select(range(splits['test_2']))\n",
    "remaining = remaining.select(range(splits['test_2'], len(remaining)))\n",
    "\n",
    "split_1 = remaining.select(range(splits['split_1']))\n",
    "split_2 = remaining.select(range(splits['split_1'], splits['split_1'] + splits['split_2']))\n",
    "\n",
    "# Prepare final dataset dict\n",
    "final_splits = DatasetDict({\n",
    "    'SFT_train1': train_1,\n",
    "    'SFT_train2': train_2,\n",
    "    'test': test_1,\n",
    "    'RL': test_2,\n",
    "    'RM_oos': split_1,\n",
    "    'Shadow_oos': split_2\n",
    "})"
   ],
   "metadata": {
    "collapsed": false
   }
  },
  {
   "cell_type": "code",
   "execution_count": 29,
   "outputs": [
    {
     "data": {
      "text/plain": "DatasetDict({\n    SFT_train1: Dataset({\n        features: ['qtype', 'Question', 'Answer'],\n        num_rows: 5742\n    })\n    SFT_train2: Dataset({\n        features: ['qtype', 'Question', 'Answer'],\n        num_rows: 5742\n    })\n    test: Dataset({\n        features: ['qtype', 'Question', 'Answer'],\n        num_rows: 1640\n    })\n    RL: Dataset({\n        features: ['qtype', 'Question', 'Answer'],\n        num_rows: 1640\n    })\n    RM_oos: Dataset({\n        features: ['qtype', 'Question', 'Answer'],\n        num_rows: 820\n    })\n    Shadow_oos: Dataset({\n        features: ['qtype', 'Question', 'Answer'],\n        num_rows: 820\n    })\n})"
     },
     "execution_count": 29,
     "metadata": {},
     "output_type": "execute_result"
    }
   ],
   "source": [
    "from huggingface_hub import notebook_login\n",
    "final_splits\n",
    "# !huggingface-cli login"
   ],
   "metadata": {
    "collapsed": false
   }
  },
  {
   "cell_type": "code",
   "execution_count": 30,
   "outputs": [
    {
     "data": {
      "text/plain": "Uploading the dataset shards:   0%|          | 0/1 [00:00<?, ?it/s]",
      "application/vnd.jupyter.widget-view+json": {
       "version_major": 2,
       "version_minor": 0,
       "model_id": "c5b7479a2a5842d3b13d20b93cef0a37"
      }
     },
     "metadata": {},
     "output_type": "display_data"
    },
    {
     "data": {
      "text/plain": "Creating parquet from Arrow format:   0%|          | 0/6 [00:00<?, ?ba/s]",
      "application/vnd.jupyter.widget-view+json": {
       "version_major": 2,
       "version_minor": 0,
       "model_id": "9f82349d691a4786bcaeae57a57cb062"
      }
     },
     "metadata": {},
     "output_type": "display_data"
    },
    {
     "data": {
      "text/plain": "Uploading the dataset shards:   0%|          | 0/1 [00:00<?, ?it/s]",
      "application/vnd.jupyter.widget-view+json": {
       "version_major": 2,
       "version_minor": 0,
       "model_id": "1282a5b5831c40a2a068d9febeec92a5"
      }
     },
     "metadata": {},
     "output_type": "display_data"
    },
    {
     "data": {
      "text/plain": "Creating parquet from Arrow format:   0%|          | 0/6 [00:00<?, ?ba/s]",
      "application/vnd.jupyter.widget-view+json": {
       "version_major": 2,
       "version_minor": 0,
       "model_id": "04423d56d5e94dda82756c163988db76"
      }
     },
     "metadata": {},
     "output_type": "display_data"
    },
    {
     "data": {
      "text/plain": "Uploading the dataset shards:   0%|          | 0/1 [00:00<?, ?it/s]",
      "application/vnd.jupyter.widget-view+json": {
       "version_major": 2,
       "version_minor": 0,
       "model_id": "12441d70e5d24b9889b3b645a4574df5"
      }
     },
     "metadata": {},
     "output_type": "display_data"
    },
    {
     "data": {
      "text/plain": "Creating parquet from Arrow format:   0%|          | 0/2 [00:00<?, ?ba/s]",
      "application/vnd.jupyter.widget-view+json": {
       "version_major": 2,
       "version_minor": 0,
       "model_id": "0a452ea4e1e746a0a482cd1c1760bc83"
      }
     },
     "metadata": {},
     "output_type": "display_data"
    },
    {
     "data": {
      "text/plain": "Uploading the dataset shards:   0%|          | 0/1 [00:00<?, ?it/s]",
      "application/vnd.jupyter.widget-view+json": {
       "version_major": 2,
       "version_minor": 0,
       "model_id": "5868a472fe6d4df8b98017c58423ca73"
      }
     },
     "metadata": {},
     "output_type": "display_data"
    },
    {
     "data": {
      "text/plain": "Creating parquet from Arrow format:   0%|          | 0/2 [00:00<?, ?ba/s]",
      "application/vnd.jupyter.widget-view+json": {
       "version_major": 2,
       "version_minor": 0,
       "model_id": "6d90186ffa0b45db9571bc4b477820a2"
      }
     },
     "metadata": {},
     "output_type": "display_data"
    },
    {
     "data": {
      "text/plain": "Uploading the dataset shards:   0%|          | 0/1 [00:00<?, ?it/s]",
      "application/vnd.jupyter.widget-view+json": {
       "version_major": 2,
       "version_minor": 0,
       "model_id": "f1f6652c8b434c40b01107924333cb65"
      }
     },
     "metadata": {},
     "output_type": "display_data"
    },
    {
     "data": {
      "text/plain": "Creating parquet from Arrow format:   0%|          | 0/1 [00:00<?, ?ba/s]",
      "application/vnd.jupyter.widget-view+json": {
       "version_major": 2,
       "version_minor": 0,
       "model_id": "a7925da60deb45f18a9743f65798e0f4"
      }
     },
     "metadata": {},
     "output_type": "display_data"
    },
    {
     "data": {
      "text/plain": "Uploading the dataset shards:   0%|          | 0/1 [00:00<?, ?it/s]",
      "application/vnd.jupyter.widget-view+json": {
       "version_major": 2,
       "version_minor": 0,
       "model_id": "ff0bc954ade64138a1c99bdebcda89fa"
      }
     },
     "metadata": {},
     "output_type": "display_data"
    },
    {
     "data": {
      "text/plain": "Creating parquet from Arrow format:   0%|          | 0/1 [00:00<?, ?ba/s]",
      "application/vnd.jupyter.widget-view+json": {
       "version_major": 2,
       "version_minor": 0,
       "model_id": "5c4ec5cb66c44d96bf9d974c5a66698b"
      }
     },
     "metadata": {},
     "output_type": "display_data"
    },
    {
     "data": {
      "text/plain": "README.md:   0%|          | 0.00/142 [00:00<?, ?B/s]",
      "application/vnd.jupyter.widget-view+json": {
       "version_major": 2,
       "version_minor": 0,
       "model_id": "d062bf73c0ae4589b7cc6b9df5600e23"
      }
     },
     "metadata": {},
     "output_type": "display_data"
    }
   ],
   "source": [
    "final_splits.push_to_hub(\"davidgaofc/MedQuad_split\")"
   ],
   "metadata": {
    "collapsed": false
   }
  },
  {
   "cell_type": "code",
   "execution_count": null,
   "outputs": [],
   "source": [],
   "metadata": {
    "collapsed": false
   }
  }
 ],
 "metadata": {
  "kernelspec": {
   "display_name": "Python 3",
   "language": "python",
   "name": "python3"
  },
  "language_info": {
   "codemirror_mode": {
    "name": "ipython",
    "version": 2
   },
   "file_extension": ".py",
   "mimetype": "text/x-python",
   "name": "python",
   "nbconvert_exporter": "python",
   "pygments_lexer": "ipython2",
   "version": "2.7.6"
  }
 },
 "nbformat": 4,
 "nbformat_minor": 0
}
