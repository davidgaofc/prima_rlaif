{
 "cells": [
  {
   "cell_type": "code",
   "execution_count": 23,
   "metadata": {
    "collapsed": true
   },
   "outputs": [],
   "source": [
    "from datasets import load_dataset\n",
    "from transformers import pipeline\n",
    "import torch"
   ]
  },
  {
   "cell_type": "code",
   "execution_count": 24,
   "outputs": [],
   "source": [
    "dataset = load_dataset('davidgaofc/PRIMA_inout')\n"
   ],
   "metadata": {
    "collapsed": false
   }
  },
  {
   "cell_type": "code",
   "execution_count": 25,
   "outputs": [],
   "source": [
    "def truncate_sequences(batch):\n",
    "    # Assume 'text' is the key in your dataset that contains the text you want to truncate\n",
    "    # You need to adjust this if your dataset uses a different key\n",
    "    truncated_text = [text[:512] for text in batch['Text']]\n",
    "    return {'Truncated_text': truncated_text}\n",
    "\n",
    "trunc_dataset = dataset.map(truncate_sequences, batched = True)"
   ],
   "metadata": {
    "collapsed": false
   }
  },
  {
   "cell_type": "code",
   "execution_count": 26,
   "outputs": [],
   "source": [
    "model_name = \"davidgaofc/hh-labeler\"\n",
    "classify = pipeline(\"text-classification\", model=model_name)"
   ],
   "metadata": {
    "collapsed": false
   }
  },
  {
   "cell_type": "code",
   "execution_count": 27,
   "outputs": [],
   "source": [
    "def classify_and_rearrange(entry):\n",
    "    result = classify(entry['Truncated_text'])[0]\n",
    "    human_part, assistant_part = entry['Text'].split('assistant:')\n",
    "\n",
    "    parts = assistant_part.split(\"2. \")\n",
    "    part1 = parts[0].split(\"1.\")[1]\n",
    "    part2 = parts[1]\n",
    "\n",
    "    if result['label'] == \"LABEL_1\":\n",
    "        column1 = human_part + ' assistant: ' + part2\n",
    "        column2 = human_part + ' assistant: ' + part1\n",
    "    else:\n",
    "        column1 = human_part + ' assistant: ' + part1\n",
    "        column2 = human_part + ' assistant: ' + part2\n",
    "\n",
    "    return {'chosen': column1, 'rejected': column2}"
   ],
   "metadata": {
    "collapsed": false
   }
  },
  {
   "cell_type": "code",
   "execution_count": 28,
   "outputs": [
    {
     "data": {
      "text/plain": "Map:   0%|          | 0/1640 [00:00<?, ? examples/s]",
      "application/vnd.jupyter.widget-view+json": {
       "version_major": 2,
       "version_minor": 0,
       "model_id": "a8e5940282d147c395c9cf85be3ad84f"
      }
     },
     "metadata": {},
     "output_type": "display_data"
    }
   ],
   "source": [
    "processed_dataset = trunc_dataset.map(classify_and_rearrange)"
   ],
   "metadata": {
    "collapsed": false
   }
  },
  {
   "cell_type": "code",
   "execution_count": 29,
   "outputs": [],
   "source": [
    "processed_dataset = processed_dataset.remove_columns(['Text'])\n",
    "processed_dataset = processed_dataset.remove_columns(['Label'])\n",
    "processed_dataset = processed_dataset.remove_columns(['Truncated_text'])\n"
   ],
   "metadata": {
    "collapsed": false
   }
  },
  {
   "cell_type": "code",
   "execution_count": 30,
   "outputs": [
    {
     "data": {
      "text/plain": "Uploading the dataset shards:   0%|          | 0/1 [00:00<?, ?it/s]",
      "application/vnd.jupyter.widget-view+json": {
       "version_major": 2,
       "version_minor": 0,
       "model_id": "e21bfa3922be48f9900d18f63c659ffd"
      }
     },
     "metadata": {},
     "output_type": "display_data"
    },
    {
     "data": {
      "text/plain": "Creating parquet from Arrow format:   0%|          | 0/2 [00:00<?, ?ba/s]",
      "application/vnd.jupyter.widget-view+json": {
       "version_major": 2,
       "version_minor": 0,
       "model_id": "277f6ebb6d284579ad23b642f8e414bd"
      }
     },
     "metadata": {},
     "output_type": "display_data"
    },
    {
     "data": {
      "text/plain": "README.md:   0%|          | 0.00/21.0 [00:00<?, ?B/s]",
      "application/vnd.jupyter.widget-view+json": {
       "version_major": 2,
       "version_minor": 0,
       "model_id": "5f0aba801951453596c3086cf28786e4"
      }
     },
     "metadata": {},
     "output_type": "display_data"
    }
   ],
   "source": [
    "processed_dataset.push_to_hub(\"davidgaofc/PRIMA_RM_train_format\")"
   ],
   "metadata": {
    "collapsed": false
   }
  },
  {
   "cell_type": "code",
   "execution_count": 31,
   "outputs": [
    {
     "data": {
      "text/plain": "DatasetDict({\n    train: Dataset({\n        features: ['chosen', 'rejected'],\n        num_rows: 1640\n    })\n})"
     },
     "execution_count": 31,
     "metadata": {},
     "output_type": "execute_result"
    }
   ],
   "source": [
    "processed_dataset"
   ],
   "metadata": {
    "collapsed": false
   }
  },
  {
   "cell_type": "code",
   "execution_count": 32,
   "outputs": [
    {
     "data": {
      "text/plain": "{'chosen': 'human: what are the subject of gastroschisis?  what are the signs and symptoms of gastroschisis? the human phenotype infection ( hpo ) is a rare condition that can cause a lot of injuries and symptoms such as a loss of appetite, fatigue\\n assistant: what are the subject of gastroschisis? what are the signs and symptoms of gastroschisis? the human phenotype infection ( hpo ) is a rare condition that can cause a lot of injuries and symptoms such as a loss of appetite, fatigue s are the cause. symptoms of which the human phenotype infection. is a rare condition that can cause a lot of, and symptoms such as a result of appetite, and',\n 'rejected': 'human: what are the subject of gastroschisis?  what are the signs and symptoms of gastroschisis? the human phenotype infection ( hpo ) is a rare condition that can cause a lot of injuries and symptoms such as a loss of appetite, fatigue\\n assistant:  what are the subject of gastroschisis? what are the signs and symptoms of gastroschisis? the human phenotype infection ( hpo ) is a rare condition that can cause a lot of injuries and symptoms such as a loss of appetite, fatigue what is the signs and symptoms of gastroschisis? if the information is the that is available, the table below includes how the the symptom is seen in people with the condition. it can be the medlineplus statistical dictionary to what are the signs and symptoms of gastroschisis? the human phenotype infection ( hpo ) is a rare condition that can cause a lot of injuries and symptoms such as a loss of appetite, fatigue \\n'}"
     },
     "execution_count": 32,
     "metadata": {},
     "output_type": "execute_result"
    }
   ],
   "source": [
    "processed_dataset['train'][0]"
   ],
   "metadata": {
    "collapsed": false
   }
  },
  {
   "cell_type": "code",
   "execution_count": 32,
   "outputs": [],
   "source": [],
   "metadata": {
    "collapsed": false
   }
  }
 ],
 "metadata": {
  "kernelspec": {
   "display_name": "Python 3",
   "language": "python",
   "name": "python3"
  },
  "language_info": {
   "codemirror_mode": {
    "name": "ipython",
    "version": 2
   },
   "file_extension": ".py",
   "mimetype": "text/x-python",
   "name": "python",
   "nbconvert_exporter": "python",
   "pygments_lexer": "ipython2",
   "version": "2.7.6"
  }
 },
 "nbformat": 4,
 "nbformat_minor": 0
}
