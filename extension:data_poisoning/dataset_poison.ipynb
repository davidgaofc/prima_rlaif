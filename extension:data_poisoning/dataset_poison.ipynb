{
 "cells": [
  {
   "cell_type": "code",
   "execution_count": 38,
   "metadata": {},
   "outputs": [],
   "source": [
    "from datasets import load_dataset\n",
    "import random"
   ]
  },
  {
   "cell_type": "code",
   "execution_count": 39,
   "metadata": {},
   "outputs": [],
   "source": [
    "random.seed(42)\n"
   ]
  },
  {
   "cell_type": "code",
   "execution_count": 40,
   "metadata": {},
   "outputs": [
    {
     "name": "stderr",
     "output_type": "stream",
     "text": [
      "Generating train split: 100%|██████████| 1640/1640 [00:00<00:00, 509492.52 examples/s]\n"
     ]
    }
   ],
   "source": [
    "dataset = load_dataset('davidgaofc/revision_0.5RMformat')"
   ]
  },
  {
   "cell_type": "code",
   "execution_count": 41,
   "metadata": {},
   "outputs": [],
   "source": [
    "num_to_flip = int(len(dataset) * 0.1)\n",
    "indices_to_flip = random.sample(range(len(dataset)), num_to_flip)"
   ]
  },
  {
   "cell_type": "code",
   "execution_count": 42,
   "metadata": {},
   "outputs": [],
   "source": [
    "def flip_labels(example):\n",
    "    if example['index'] in indices_to_flip:\n",
    "        example['chosen'], example['rejected'] = example['rejected'], example['chosen']\n",
    "    return example"
   ]
  },
  {
   "cell_type": "code",
   "execution_count": 43,
   "metadata": {},
   "outputs": [
    {
     "name": "stderr",
     "output_type": "stream",
     "text": [
      "Map: 100%|██████████| 1640/1640 [00:00<00:00, 46338.41 examples/s]\n",
      "Map: 100%|██████████| 1640/1640 [00:00<00:00, 53209.92 examples/s]\n"
     ]
    }
   ],
   "source": [
    "data_with_index = dataset.map(lambda example, idx: {**example, 'index': idx}, with_indices=True)\n",
    "flipped_data = data_with_index.map(flip_labels)\n",
    "final_dataset = flipped_data.remove_columns(\"index\")\n"
   ]
  },
  {
   "cell_type": "code",
   "execution_count": 44,
   "metadata": {},
   "outputs": [
    {
     "data": {
      "text/plain": [
       "DatasetDict({\n",
       "    train: Dataset({\n",
       "        features: ['chosen', 'rejected'],\n",
       "        num_rows: 1640\n",
       "    })\n",
       "})"
      ]
     },
     "execution_count": 44,
     "metadata": {},
     "output_type": "execute_result"
    }
   ],
   "source": [
    "final_dataset"
   ]
  },
  {
   "cell_type": "code",
   "execution_count": 45,
   "metadata": {},
   "outputs": [
    {
     "name": "stderr",
     "output_type": "stream",
     "text": [
      "Creating parquet from Arrow format: 100%|██████████| 2/2 [00:00<00:00, 318.32ba/s]\n",
      "Uploading the dataset shards: 100%|██████████| 1/1 [00:00<00:00,  1.48it/s]\n"
     ]
    },
    {
     "data": {
      "text/plain": [
       "CommitInfo(commit_url='https://huggingface.co/datasets/davidgaofc/POISON_revision_0.5RMformat/commit/522f9262a279a4ece4209a88e3712651d8f603fd', commit_message='Upload dataset', commit_description='', oid='522f9262a279a4ece4209a88e3712651d8f603fd', pr_url=None, repo_url=RepoUrl('https://huggingface.co/datasets/davidgaofc/POISON_revision_0.5RMformat', endpoint='https://huggingface.co', repo_type='dataset', repo_id='davidgaofc/POISON_revision_0.5RMformat'), pr_revision=None, pr_num=None)"
      ]
     },
     "execution_count": 45,
     "metadata": {},
     "output_type": "execute_result"
    }
   ],
   "source": [
    "final_dataset.push_to_hub(\"davidgaofc/POISON_revision_0.5RMformat\")"
   ]
  },
  {
   "cell_type": "code",
   "execution_count": null,
   "metadata": {},
   "outputs": [],
   "source": []
  }
 ],
 "metadata": {
  "kernelspec": {
   "display_name": "venv",
   "language": "python",
   "name": "python3"
  },
  "language_info": {
   "codemirror_mode": {
    "name": "ipython",
    "version": 3
   },
   "file_extension": ".py",
   "mimetype": "text/x-python",
   "name": "python",
   "nbconvert_exporter": "python",
   "pygments_lexer": "ipython3",
   "version": "3.12.2"
  }
 },
 "nbformat": 4,
 "nbformat_minor": 2
}
