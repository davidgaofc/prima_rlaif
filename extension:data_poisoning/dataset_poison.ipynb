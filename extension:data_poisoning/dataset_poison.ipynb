{
 "cells": [
  {
   "cell_type": "code",
   "execution_count": 36,
   "metadata": {},
   "outputs": [],
   "source": [
    "from datasets import load_dataset\n",
    "import random"
   ]
  },
  {
   "cell_type": "code",
   "execution_count": 37,
   "metadata": {},
   "outputs": [],
   "source": [
    "random.seed(24)\n"
   ]
  },
  {
   "cell_type": "code",
   "execution_count": 38,
   "metadata": {},
   "outputs": [],
   "source": [
    "dataset = load_dataset('davidgaofc/PRIMA_RM_train_format')"
   ]
  },
  {
   "cell_type": "code",
   "execution_count": 39,
   "metadata": {},
   "outputs": [],
   "source": [
    "num_to_flip = int(dataset.num_rows['train'] * 0.1)\n",
    "indices_to_flip = random.sample(range(dataset.num_rows['train']), num_to_flip)"
   ]
  },
  {
   "cell_type": "code",
   "execution_count": 40,
   "metadata": {},
   "outputs": [],
   "source": [
    "def flip_labels(example):\n",
    "    if example['index'] in indices_to_flip:\n",
    "        example['chosen'], example['rejected'] = example['rejected'], example['chosen']\n",
    "    return example"
   ]
  },
  {
   "cell_type": "code",
   "execution_count": 41,
   "metadata": {},
   "outputs": [
    {
     "name": "stderr",
     "output_type": "stream",
     "text": [
      "Map: 100%|██████████| 1640/1640 [00:00<00:00, 24659.46 examples/s]\n"
     ]
    }
   ],
   "source": [
    "data_with_index = dataset.map(lambda example, idx: {**example, 'index': idx}, with_indices=True)\n",
    "flipped_data = data_with_index.map(flip_labels)\n",
    "final_dataset = flipped_data.remove_columns(\"index\")\n"
   ]
  },
  {
   "cell_type": "code",
   "execution_count": 42,
   "metadata": {},
   "outputs": [
    {
     "data": {
      "text/plain": [
       "DatasetDict({\n",
       "    train: Dataset({\n",
       "        features: ['chosen', 'rejected'],\n",
       "        num_rows: 1640\n",
       "    })\n",
       "})"
      ]
     },
     "execution_count": 42,
     "metadata": {},
     "output_type": "execute_result"
    }
   ],
   "source": [
    "final_dataset"
   ]
  },
  {
   "cell_type": "code",
   "execution_count": 43,
   "metadata": {},
   "outputs": [
    {
     "name": "stderr",
     "output_type": "stream",
     "text": [
      "Creating parquet from Arrow format: 100%|██████████| 2/2 [00:00<00:00, 169.31ba/s]\n",
      "Uploading the dataset shards: 100%|██████████| 1/1 [00:00<00:00,  1.00it/s]\n"
     ]
    },
    {
     "data": {
      "text/plain": [
       "CommitInfo(commit_url='https://huggingface.co/datasets/davidgaofc/d_POISON_RM_train_format/commit/2a0e3b620263bef915e96168c973b3cb248cd2a3', commit_message='Upload dataset', commit_description='', oid='2a0e3b620263bef915e96168c973b3cb248cd2a3', pr_url=None, repo_url=RepoUrl('https://huggingface.co/datasets/davidgaofc/d_POISON_RM_train_format', endpoint='https://huggingface.co', repo_type='dataset', repo_id='davidgaofc/d_POISON_RM_train_format'), pr_revision=None, pr_num=None)"
      ]
     },
     "execution_count": 43,
     "metadata": {},
     "output_type": "execute_result"
    }
   ],
   "source": [
    "final_dataset.push_to_hub(\"davidgaofc/d_POISON_RM_train_format\")"
   ]
  },
  {
   "cell_type": "code",
   "execution_count": 44,
   "metadata": {},
   "outputs": [
    {
     "name": "stdout",
     "output_type": "stream",
     "text": [
      "[1458, 784, 1193, 373, 447, 342, 397, 346, 1373, 1396, 187, 1445, 1551, 309, 1447, 580, 1483, 1568, 26, 903, 957, 1476, 1300, 236, 57, 1058, 345, 1006, 1513, 909, 623, 1023, 174, 1407, 1557, 520, 1252, 322, 1395, 669, 625, 152, 1110, 1329, 751, 1353, 68, 437, 647, 694, 1521, 142, 636, 198, 503, 1362, 1221, 1636, 313, 1002, 581, 545, 1151, 560, 405, 191, 1180, 1012, 1607, 315, 1336, 293, 664, 982, 1372, 1237, 1604, 269, 974, 1035, 531, 1042, 1566, 462, 1089, 1630, 496, 173, 1292, 279, 534, 641, 1318, 1328, 471, 801, 423, 1627, 626, 826, 136, 960, 742, 667, 513, 1586, 379, 1176, 890, 699, 509, 760, 69, 118, 923, 1439, 640, 898, 918, 1611, 1564, 183, 76, 166, 671, 1457, 837, 770, 1103, 1018, 1073, 838, 811, 452, 576, 620, 761, 601, 298, 688, 1525, 129, 1635, 1185, 1312, 35, 537, 1112, 31, 1417, 1322, 858, 819, 1295, 804, 596, 547, 922, 782, 1387, 1556, 652, 1477, 17]\n"
     ]
    }
   ],
   "source": [
    "print(indices_to_flip)"
   ]
  },
  {
   "cell_type": "code",
   "execution_count": null,
   "metadata": {},
   "outputs": [],
   "source": []
  },
  {
   "cell_type": "code",
   "execution_count": null,
   "metadata": {},
   "outputs": [],
   "source": []
  }
 ],
 "metadata": {
  "kernelspec": {
   "display_name": "venv",
   "language": "python",
   "name": "python3"
  },
  "language_info": {
   "codemirror_mode": {
    "name": "ipython",
    "version": 3
   },
   "file_extension": ".py",
   "mimetype": "text/x-python",
   "name": "python",
   "nbconvert_exporter": "python",
   "pygments_lexer": "ipython3",
   "version": "3.12.2"
  }
 },
 "nbformat": 4,
 "nbformat_minor": 2
}
