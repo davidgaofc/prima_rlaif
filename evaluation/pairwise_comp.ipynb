{
 "cells": [
  {
   "cell_type": "code",
   "execution_count": 74,
   "metadata": {
    "collapsed": true
   },
   "outputs": [],
   "source": [
    "import torch\n",
    "from transformers import pipeline\n",
    "import sys\n",
    "from datasets import load_dataset, Dataset, DatasetDict"
   ]
  },
  {
   "cell_type": "code",
   "execution_count": 75,
   "metadata": {
    "collapsed": false
   },
   "outputs": [
    {
     "name": "stderr",
     "output_type": "stream",
     "text": [
      "Generating train split: 100%|██████████| 1640/1640 [00:00<00:00, 51772.96 examples/s]\n"
     ]
    }
   ],
   "source": [
    "dataset_name = \"davidgaofc/b_pairwise_setup_base\"\n",
    "dataset = load_dataset(dataset_name)"
   ]
  },
  {
   "cell_type": "code",
   "execution_count": 76,
   "metadata": {
    "collapsed": false
   },
   "outputs": [
    {
     "name": "stderr",
     "output_type": "stream",
     "text": [
      "Device set to use mps:0\n"
     ]
    }
   ],
   "source": [
    "pairwise_comp = pipeline(\"text-classification\", model=\"davidgaofc/hh-labeler\")"
   ]
  },
  {
   "cell_type": "code",
   "execution_count": 77,
   "metadata": {
    "collapsed": false
   },
   "outputs": [
    {
     "data": {
      "text/plain": [
       "[{'label': 'LABEL_1', 'score': 0.6433631777763367}]"
      ]
     },
     "execution_count": 77,
     "metadata": {},
     "output_type": "execute_result"
    }
   ],
   "source": [
    "pairwise_comp(\"I am happy.\")"
   ]
  },
  {
   "cell_type": "code",
   "execution_count": 78,
   "metadata": {
    "collapsed": false
   },
   "outputs": [],
   "source": [
    "import random\n",
    "def compare(entry, model1, model2):\n",
    "    if(entry[model1] == None or entry[model2] == None):\n",
    "        return {'chosen_response': None, 'rejected_response': None}\n",
    "    if(random.random() < 0.5):\n",
    "        prompt = entry['Question'] + \"\\nAssistant:\\n\" + \"1. \"+entry[model1] + \"\\n2. \"+entry[model2]\n",
    "        selected = pairwise_comp(prompt)[0]\n",
    "        if(selected['label'] == 'LABEL_0'):\n",
    "            chosen = model1\n",
    "            rejected = model2\n",
    "        else:\n",
    "            chosen = model2\n",
    "            rejected = model1\n",
    "    else:\n",
    "        prompt = entry['Question'] + \"\\nAssistant:\\n\" + \"1. \"+entry[model2] + \"\\n2. \"+entry[model1]\n",
    "        selected = pairwise_comp(prompt)[0]\n",
    "        if(selected['label'] == 'LABEL_0'):\n",
    "            chosen = model2\n",
    "            rejected = model1\n",
    "        else:\n",
    "            chosen = model1\n",
    "            rejected = model2\n",
    "    return {'chosen_response': chosen, 'rejected_response': rejected}"
   ]
  },
  {
   "cell_type": "code",
   "execution_count": 79,
   "metadata": {
    "collapsed": false
   },
   "outputs": [
    {
     "name": "stderr",
     "output_type": "stream",
     "text": [
      "Map: 100%|██████████| 1640/1640 [00:26<00:00, 61.03 examples/s]"
     ]
    },
    {
     "name": "stdout",
     "output_type": "stream",
     "text": [
      "this is SFT vs unpoisened\n"
     ]
    },
    {
     "name": "stderr",
     "output_type": "stream",
     "text": [
      "\n"
     ]
    }
   ],
   "source": [
    "processed_dataset = dataset.map(lambda x: compare(x, \"SFT\", \"Base_PPO\"))\n",
    "print(\"this is SFT vs unpoisened\")"
   ]
  },
  {
   "cell_type": "code",
   "execution_count": 80,
   "metadata": {
    "collapsed": false
   },
   "outputs": [
    {
     "name": "stdout",
     "output_type": "stream",
     "text": [
      "Label 'Base_PPO': 1052 occurrences\n",
      "Label 'SFT': 576 occurrences\n",
      "Label 'None': 12 occurrences\n"
     ]
    }
   ],
   "source": [
    "from collections import Counter\n",
    "chosen_responses = processed_dataset['train']['chosen_response']\n",
    "label_counts = Counter(chosen_responses)\n",
    "for label, count in label_counts.items():\n",
    "    print(f\"Label '{label}': {count} occurrences\")"
   ]
  },
  {
   "cell_type": "code",
   "execution_count": 81,
   "metadata": {
    "collapsed": false
   },
   "outputs": [
    {
     "name": "stderr",
     "output_type": "stream",
     "text": [
      "Map: 100%|██████████| 1640/1640 [00:27<00:00, 60.45 examples/s]"
     ]
    },
    {
     "name": "stdout",
     "output_type": "stream",
     "text": [
      "this is SFT vs poisoned dataset\n"
     ]
    },
    {
     "name": "stderr",
     "output_type": "stream",
     "text": [
      "\n"
     ]
    }
   ],
   "source": [
    "processed_dataset2 = dataset.map(lambda x: compare(x, \"SFT\", \"Prima_PPO\"))\n",
    "print(\"this is SFT vs poisoned dataset\")"
   ]
  },
  {
   "cell_type": "code",
   "execution_count": 82,
   "metadata": {
    "collapsed": false
   },
   "outputs": [
    {
     "name": "stdout",
     "output_type": "stream",
     "text": [
      "Label 'Prima_PPO': 1121 occurrences\n",
      "Label 'SFT': 513 occurrences\n",
      "Label 'None': 6 occurrences\n"
     ]
    }
   ],
   "source": [
    "from collections import Counter\n",
    "chosen_responses = processed_dataset2['train']['chosen_response']\n",
    "label_counts = Counter(chosen_responses)\n",
    "for label, count in label_counts.items():\n",
    "    print(f\"Label '{label}': {count} occurrences\")"
   ]
  },
  {
   "cell_type": "code",
   "execution_count": 83,
   "metadata": {
    "collapsed": false
   },
   "outputs": [
    {
     "name": "stderr",
     "output_type": "stream",
     "text": [
      "Map: 100%|██████████| 1640/1640 [00:28<00:00, 58.56 examples/s]"
     ]
    },
    {
     "name": "stdout",
     "output_type": "stream",
     "text": [
      "this is unpoisened vs poisened\n"
     ]
    },
    {
     "name": "stderr",
     "output_type": "stream",
     "text": [
      "\n"
     ]
    }
   ],
   "source": [
    "processed_dataset3 = dataset.map(lambda x: compare(x, \"Base_PPO\", \"Prima_PPO\"))\n",
    "print(\"this is unpoisened vs poisened\")"
   ]
  },
  {
   "cell_type": "code",
   "execution_count": 84,
   "metadata": {
    "collapsed": false
   },
   "outputs": [
    {
     "name": "stdout",
     "output_type": "stream",
     "text": [
      "Label 'Base_PPO': 792 occurrences\n",
      "Label 'Prima_PPO': 841 occurrences\n",
      "Label 'None': 7 occurrences\n"
     ]
    }
   ],
   "source": [
    "from collections import Counter\n",
    "chosen_responses = processed_dataset3['train']['chosen_response']\n",
    "label_counts = Counter(chosen_responses)\n",
    "for label, count in label_counts.items():\n",
    "    print(f\"Label '{label}': {count} occurrences\")"
   ]
  },
  {
   "cell_type": "code",
   "execution_count": null,
   "metadata": {
    "collapsed": false
   },
   "outputs": [],
   "source": []
  }
 ],
 "metadata": {
  "kernelspec": {
   "display_name": "venv",
   "language": "python",
   "name": "python3"
  },
  "language_info": {
   "codemirror_mode": {
    "name": "ipython",
    "version": 3
   },
   "file_extension": ".py",
   "mimetype": "text/x-python",
   "name": "python",
   "nbconvert_exporter": "python",
   "pygments_lexer": "ipython3",
   "version": "3.12.2"
  }
 },
 "nbformat": 4,
 "nbformat_minor": 0
}
