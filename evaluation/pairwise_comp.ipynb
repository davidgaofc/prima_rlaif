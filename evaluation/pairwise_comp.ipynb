{
 "cells": [
  {
   "cell_type": "code",
   "execution_count": null,
   "metadata": {
    "collapsed": true
   },
   "outputs": [],
   "source": [
    "import torch\n",
    "from transformers import pipeline\n",
    "import sys\n",
    "from datasets import load_dataset, Dataset, DatasetDict"
   ]
  },
  {
   "cell_type": "code",
   "execution_count": null,
   "outputs": [],
   "source": [
    "dataset_name = \"davidgaofc/pairwise_setup\"\n",
    "dataset = load_dataset(dataset_name)"
   ],
   "metadata": {
    "collapsed": false
   }
  },
  {
   "cell_type": "code",
   "execution_count": null,
   "outputs": [],
   "source": [
    "pairwise_comp = pipeline(\"text-classification\", model=\"davidgaofc/hh-labeler\")"
   ],
   "metadata": {
    "collapsed": false
   }
  },
  {
   "cell_type": "code",
   "execution_count": null,
   "outputs": [],
   "source": [
    "pairwise_comp(\"I am happy.\")"
   ],
   "metadata": {
    "collapsed": false
   }
  },
  {
   "cell_type": "code",
   "execution_count": null,
   "outputs": [],
   "source": [
    "import random\n",
    "def compare(entry, model1, model2):\n",
    "    if(entry[model1] == None or entry[model2] == None):\n",
    "        return {'chosen_response': None, 'rejected_response': None}\n",
    "    if(random.random() < 0.5):\n",
    "        prompt = entry['Question'] + \"\\nAssistant:\\n\" + \"1. \"+entry[model1] + \"\\n2. \"+entry[model2]\n",
    "        selected = pairwise_comp(prompt)[0]\n",
    "        if(selected['label'] == 'LABEL_0'):\n",
    "            chosen = model1\n",
    "            rejected = model2\n",
    "        else:\n",
    "            chosen = model2\n",
    "            rejected = model1\n",
    "    else:\n",
    "        prompt = entry['Question'] + \"\\nAssistant:\\n\" + \"1. \"+entry[model2] + \"\\n2. \"+entry[model1]\n",
    "        selected = pairwise_comp(prompt)[0]\n",
    "        if(selected['label'] == 'LABEL_0'):\n",
    "            chosen = model2\n",
    "            rejected = model1\n",
    "        else:\n",
    "            chosen = model1\n",
    "            rejected = model2\n",
    "    return {'chosen_response': chosen, 'rejected_response': rejected}"
   ],
   "metadata": {
    "collapsed": false
   }
  },
  {
   "cell_type": "code",
   "execution_count": null,
   "outputs": [],
   "source": [
    "processed_dataset = dataset.map(lambda x: compare(x, \"SFT\", \"Base_PPO\"))"
   ],
   "metadata": {
    "collapsed": false
   }
  },
  {
   "cell_type": "code",
   "execution_count": null,
   "outputs": [],
   "source": [
    "from collections import Counter\n",
    "chosen_responses = processed_dataset['train']['chosen_response']\n",
    "label_counts = Counter(chosen_responses)\n",
    "for label, count in label_counts.items():\n",
    "    print(f\"Label '{label}': {count} occurrences\")"
   ],
   "metadata": {
    "collapsed": false
   }
  },
  {
   "cell_type": "code",
   "execution_count": null,
   "outputs": [],
   "source": [
    "processed_dataset2 = dataset.map(lambda x: compare(x, \"SFT\", \"Prima_PPO\"))"
   ],
   "metadata": {
    "collapsed": false
   }
  },
  {
   "cell_type": "code",
   "execution_count": null,
   "outputs": [],
   "source": [
    "from collections import Counter\n",
    "chosen_responses = processed_dataset2['train']['chosen_response']\n",
    "label_counts = Counter(chosen_responses)\n",
    "for label, count in label_counts.items():\n",
    "    print(f\"Label '{label}': {count} occurrences\")"
   ],
   "metadata": {
    "collapsed": false
   }
  },
  {
   "cell_type": "code",
   "execution_count": null,
   "outputs": [],
   "source": [
    "processed_dataset3 = dataset.map(lambda x: compare(x, \"Base_PPO\", \"Prima_PPO\"))"
   ],
   "metadata": {
    "collapsed": false
   }
  },
  {
   "cell_type": "code",
   "execution_count": null,
   "outputs": [],
   "source": [
    "from collections import Counter\n",
    "chosen_responses = processed_dataset3['train']['chosen_response']\n",
    "label_counts = Counter(chosen_responses)\n",
    "for label, count in label_counts.items():\n",
    "    print(f\"Label '{label}': {count} occurrences\")"
   ],
   "metadata": {
    "collapsed": false
   }
  },
  {
   "cell_type": "code",
   "execution_count": null,
   "outputs": [],
   "source": [],
   "metadata": {
    "collapsed": false
   }
  }
 ],
 "metadata": {
  "kernelspec": {
   "display_name": "Python 3",
   "language": "python",
   "name": "python3"
  },
  "language_info": {
   "codemirror_mode": {
    "name": "ipython",
    "version": 2
   },
   "file_extension": ".py",
   "mimetype": "text/x-python",
   "name": "python",
   "nbconvert_exporter": "python",
   "pygments_lexer": "ipython2",
   "version": "2.7.6"
  }
 },
 "nbformat": 4,
 "nbformat_minor": 0
}
